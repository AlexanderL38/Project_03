{
 "cells": [
  {
   "cell_type": "markdown",
   "metadata": {},
   "source": [
    "# Proyecto 3\n",
    "\n",
    "Esta tarea requiere que encuentres al menos dos datasets en la web que estén relacionados, y que visualices estos conjuntos de datos para responder una pregunta acerca de un tema amplio (por ejemplo: deportes, salud, actividad económica, comparaciones demográficas, climática, etc.) para la región de Salto, o Uruguay más ampliamente.\n",
    "\n",
    "Debes combinar estos conjuntos de datos con datos de Uruguay y compararlos con otras regiones o paises. Por ejemplo, es posible que desee comparar un departamento de Uruguay, con una región de similares características en otro país. O datos de Uruguay comparados con otros países. En todos los casos al menos un archivo fuente debe ser de Uruguay o de uno de sus departamentos.\n",
    "\n",
    "Puede elegir los conjuntos de datos a tu discreción. Los materiales delicados, confidenciales, ilícitos y patentados no son buenas opciones para conjuntos de datos para esta tarea.\n",
    "\n",
    "Además, puedes conservar los datos en su idioma original, pero es una buena práctica también proporcionarlos con traducciones. Puedes proporcionar múltiples imágenes con las mismas visualizaciones pero en diferentes idiomas.\n",
    "\n",
    "## Indicaciones\n",
    "\n",
    "- Indica la región y la categoría de dominio de la que tratan los datasets (por ejemplo: Región: Salto, Uruguay; Categoría de dominio: deportes o atletismo).\n",
    "- Debes formular una pregunta sobre la categoría de dominio y la región que identificaste como interesante.\n",
    "- Debe proporcionar al menos dos enlaces a conjuntos de datos o datasets disponibles en la web. Estos pueden ser enlaces a archivos (csv o xls), o enlaces a sitios web que pueden tener datos en forma tabular, como páginas de Wikipedia.\n",
    "- Debes generar al menos una imagen que responda a la pregunta de investigación que planteaste. Además de abordar la pregunta, esta imagen debe seguir los principios de Cairo de veracidad, funcionalidad, belleza y perspicacia.\n",
    "- Debes contribuir con una breve justificación escrita (1-2 párrafos) de cómo su visualización aborda la pregunta de investigación planteada.\n",
    "- Todo esto en un único archivo de Jupyter Notebook que debe contener las siguientes secciones:\n",
    "  - Región y Dominio\n",
    "  - Pregunta\n",
    "  - Enlaces\n",
    "  - Código con comentarios\n",
    "  - Imágenes\n",
    "  - Conclusión\n",
    "\n",
    "## Consejos\n",
    "\n",
    "- El gobierno de Uruguay tiene una política de Datos Abiertos y encontrarás información centralizada en el [Catálogo de Datos Abiertos](https://catalogodatos.gub.uy/).\n",
    "- Wikipedia es una excelente fuente de datos y te recomendamos que la explores en busca de nuevas fuentes de datos.\n",
    "- Varias agencias internacionales, como las [Naciones Unidas](https://data.un.org/), el [Banco Mundial](https://data.worldbank.org/) son otros excelentes lugares para buscar datos. En la WebAsignatura encontrarás más enlaces.\n",
    "- Esta tarea requiere que conviertas y limpies los archivos de datos.\n",
    "- Consulta en el foro de WebAsignatura para obtener consejos sobre cómo hacer esto de varias fuentes y comparte tus éxitos con tus compañeros.\n"
   ]
  },
  {
   "cell_type": "code",
   "execution_count": 10,
   "metadata": {
    "collapsed": false
   },
   "outputs": [
    {
     "ename": "KeyError",
     "evalue": "'Año'",
     "output_type": "error",
     "traceback": [
      "\u001b[0;31m---------------------------------------------------------------------------\u001b[0m",
      "\u001b[0;31mKeyError\u001b[0m                                  Traceback (most recent call last)",
      "File \u001b[0;32m~/anaconda3/lib/python3.11/site-packages/pandas/core/indexes/base.py:3802\u001b[0m, in \u001b[0;36mIndex.get_loc\u001b[0;34m(self, key, method, tolerance)\u001b[0m\n\u001b[1;32m   3801\u001b[0m \u001b[39mtry\u001b[39;00m:\n\u001b[0;32m-> 3802\u001b[0m     \u001b[39mreturn\u001b[39;00m \u001b[39mself\u001b[39m\u001b[39m.\u001b[39m_engine\u001b[39m.\u001b[39mget_loc(casted_key)\n\u001b[1;32m   3803\u001b[0m \u001b[39mexcept\u001b[39;00m \u001b[39mKeyError\u001b[39;00m \u001b[39mas\u001b[39;00m err:\n",
      "File \u001b[0;32m~/anaconda3/lib/python3.11/site-packages/pandas/_libs/index.pyx:138\u001b[0m, in \u001b[0;36mpandas._libs.index.IndexEngine.get_loc\u001b[0;34m()\u001b[0m\n",
      "File \u001b[0;32m~/anaconda3/lib/python3.11/site-packages/pandas/_libs/index.pyx:165\u001b[0m, in \u001b[0;36mpandas._libs.index.IndexEngine.get_loc\u001b[0;34m()\u001b[0m\n",
      "File \u001b[0;32mpandas/_libs/hashtable_class_helper.pxi:5745\u001b[0m, in \u001b[0;36mpandas._libs.hashtable.PyObjectHashTable.get_item\u001b[0;34m()\u001b[0m\n",
      "File \u001b[0;32mpandas/_libs/hashtable_class_helper.pxi:5753\u001b[0m, in \u001b[0;36mpandas._libs.hashtable.PyObjectHashTable.get_item\u001b[0;34m()\u001b[0m\n",
      "\u001b[0;31mKeyError\u001b[0m: 'Año'",
      "\nThe above exception was the direct cause of the following exception:\n",
      "\u001b[0;31mKeyError\u001b[0m                                  Traceback (most recent call last)",
      "\u001b[1;32m/Users/lucasalexanderfloresdossantos/Desktop/Programación Orientada a Datos/project_3/Project_03/proyecto_3.ipynb Celda 2\u001b[0m line \u001b[0;36m1\n\u001b[1;32m      <a href='vscode-notebook-cell:/Users/lucasalexanderfloresdossantos/Desktop/Programaci%C3%B3n%20Orientada%20a%20Datos/project_3/Project_03/proyecto_3.ipynb#W1sZmlsZQ%3D%3D?line=7'>8</a>\u001b[0m dataset_nat_Intern \u001b[39m=\u001b[39m pd\u001b[39m.\u001b[39mread_csv(\u001b[39m\"\u001b[39m\u001b[39mNatalidad_Internacional.csv\u001b[39m\u001b[39m\"\u001b[39m,delimiter\u001b[39m=\u001b[39m\u001b[39m\"\u001b[39m\u001b[39m,\u001b[39m\u001b[39m\"\u001b[39m,skiprows\u001b[39m=\u001b[39m\u001b[39m4\u001b[39m)\n\u001b[1;32m     <a href='vscode-notebook-cell:/Users/lucasalexanderfloresdossantos/Desktop/Programaci%C3%B3n%20Orientada%20a%20Datos/project_3/Project_03/proyecto_3.ipynb#W1sZmlsZQ%3D%3D?line=9'>10</a>\u001b[0m dataset_nat_Intern \u001b[39m=\u001b[39m dataset_nat_Intern [[\u001b[39m\"\u001b[39m\u001b[39mCountry Name\u001b[39m\u001b[39m\"\u001b[39m, \u001b[39m\"\u001b[39m\u001b[39m2010\u001b[39m\u001b[39m\"\u001b[39m, \u001b[39m\"\u001b[39m\u001b[39m2011\u001b[39m\u001b[39m\"\u001b[39m, \u001b[39m\"\u001b[39m\u001b[39m2012\u001b[39m\u001b[39m\"\u001b[39m, \u001b[39m\"\u001b[39m\u001b[39m2013\u001b[39m\u001b[39m\"\u001b[39m, \u001b[39m\"\u001b[39m\u001b[39m2014\u001b[39m\u001b[39m\"\u001b[39m,\u001b[39m\"\u001b[39m\u001b[39m2015\u001b[39m\u001b[39m\"\u001b[39m,\u001b[39m\"\u001b[39m\u001b[39m2016\u001b[39m\u001b[39m\"\u001b[39m,\u001b[39m\"\u001b[39m\u001b[39m2017\u001b[39m\u001b[39m\"\u001b[39m]]\n\u001b[0;32m---> <a href='vscode-notebook-cell:/Users/lucasalexanderfloresdossantos/Desktop/Programaci%C3%B3n%20Orientada%20a%20Datos/project_3/Project_03/proyecto_3.ipynb#W1sZmlsZQ%3D%3D?line=10'>11</a>\u001b[0m dataset_nat_uy \u001b[39m=\u001b[39m dataset_nat_uy [(dataset_nat_uy [\u001b[39m\"\u001b[39m\u001b[39mAño\u001b[39m\u001b[39m\"\u001b[39m]\u001b[39m>\u001b[39m\u001b[39m=\u001b[39m\u001b[39m2010\u001b[39m) \u001b[39m&\u001b[39m (dataset_nat_uy [\u001b[39m\"\u001b[39m\u001b[39mAño\u001b[39m\u001b[39m\"\u001b[39m]\u001b[39m<\u001b[39m\u001b[39m=\u001b[39m\u001b[39m2017\u001b[39m)]\n\u001b[1;32m     <a href='vscode-notebook-cell:/Users/lucasalexanderfloresdossantos/Desktop/Programaci%C3%B3n%20Orientada%20a%20Datos/project_3/Project_03/proyecto_3.ipynb#W1sZmlsZQ%3D%3D?line=12'>13</a>\u001b[0m dataset_nat_Intern \u001b[39m=\u001b[39m dataset_nat_Intern [(dataset_nat_Intern[\u001b[39m\"\u001b[39m\u001b[39mCountry Name\u001b[39m\u001b[39m\"\u001b[39m] \u001b[39m==\u001b[39m \u001b[39m\"\u001b[39m\u001b[39mArmenia\u001b[39m\u001b[39m\"\u001b[39m)]\n\u001b[1;32m     <a href='vscode-notebook-cell:/Users/lucasalexanderfloresdossantos/Desktop/Programaci%C3%B3n%20Orientada%20a%20Datos/project_3/Project_03/proyecto_3.ipynb#W1sZmlsZQ%3D%3D?line=14'>15</a>\u001b[0m dataset_nat_Intern \u001b[39m=\u001b[39m dataset_nat_Intern [[\u001b[39m\"\u001b[39m\u001b[39m2010\u001b[39m\u001b[39m\"\u001b[39m, \u001b[39m\"\u001b[39m\u001b[39m2011\u001b[39m\u001b[39m\"\u001b[39m,\u001b[39m\"\u001b[39m\u001b[39m2012\u001b[39m\u001b[39m\"\u001b[39m, \u001b[39m\"\u001b[39m\u001b[39m2013\u001b[39m\u001b[39m\"\u001b[39m,\u001b[39m\"\u001b[39m\u001b[39m2014\u001b[39m\u001b[39m\"\u001b[39m,\u001b[39m\"\u001b[39m\u001b[39m2015\u001b[39m\u001b[39m\"\u001b[39m,\u001b[39m\"\u001b[39m\u001b[39m2016\u001b[39m\u001b[39m\"\u001b[39m,\u001b[39m\"\u001b[39m\u001b[39m2017\u001b[39m\u001b[39m\"\u001b[39m]]\n",
      "File \u001b[0;32m~/anaconda3/lib/python3.11/site-packages/pandas/core/frame.py:3807\u001b[0m, in \u001b[0;36mDataFrame.__getitem__\u001b[0;34m(self, key)\u001b[0m\n\u001b[1;32m   3805\u001b[0m \u001b[39mif\u001b[39;00m \u001b[39mself\u001b[39m\u001b[39m.\u001b[39mcolumns\u001b[39m.\u001b[39mnlevels \u001b[39m>\u001b[39m \u001b[39m1\u001b[39m:\n\u001b[1;32m   3806\u001b[0m     \u001b[39mreturn\u001b[39;00m \u001b[39mself\u001b[39m\u001b[39m.\u001b[39m_getitem_multilevel(key)\n\u001b[0;32m-> 3807\u001b[0m indexer \u001b[39m=\u001b[39m \u001b[39mself\u001b[39m\u001b[39m.\u001b[39mcolumns\u001b[39m.\u001b[39mget_loc(key)\n\u001b[1;32m   3808\u001b[0m \u001b[39mif\u001b[39;00m is_integer(indexer):\n\u001b[1;32m   3809\u001b[0m     indexer \u001b[39m=\u001b[39m [indexer]\n",
      "File \u001b[0;32m~/anaconda3/lib/python3.11/site-packages/pandas/core/indexes/base.py:3804\u001b[0m, in \u001b[0;36mIndex.get_loc\u001b[0;34m(self, key, method, tolerance)\u001b[0m\n\u001b[1;32m   3802\u001b[0m     \u001b[39mreturn\u001b[39;00m \u001b[39mself\u001b[39m\u001b[39m.\u001b[39m_engine\u001b[39m.\u001b[39mget_loc(casted_key)\n\u001b[1;32m   3803\u001b[0m \u001b[39mexcept\u001b[39;00m \u001b[39mKeyError\u001b[39;00m \u001b[39mas\u001b[39;00m err:\n\u001b[0;32m-> 3804\u001b[0m     \u001b[39mraise\u001b[39;00m \u001b[39mKeyError\u001b[39;00m(key) \u001b[39mfrom\u001b[39;00m \u001b[39merr\u001b[39;00m\n\u001b[1;32m   3805\u001b[0m \u001b[39mexcept\u001b[39;00m \u001b[39mTypeError\u001b[39;00m:\n\u001b[1;32m   3806\u001b[0m     \u001b[39m# If we have a listlike key, _check_indexing_error will raise\u001b[39;00m\n\u001b[1;32m   3807\u001b[0m     \u001b[39m#  InvalidIndexError. Otherwise we fall through and re-raise\u001b[39;00m\n\u001b[1;32m   3808\u001b[0m     \u001b[39m#  the TypeError.\u001b[39;00m\n\u001b[1;32m   3809\u001b[0m     \u001b[39mself\u001b[39m\u001b[39m.\u001b[39m_check_indexing_error(key)\n",
      "\u001b[0;31mKeyError\u001b[0m: 'Año'"
     ]
    }
   ],
   "source": [
    "import pandas as pd\n",
    "import numpy as np\n",
    "import matplotlib.pyplot as plt\n",
    "import matplotlib.ticker as mtick\n",
    "\n",
    "\n",
    "dataset_nat_uy = pd.read_csv(\"Natalidad_Uruguay.csv\",delimiter=\",\",encoding=\"latin1\")\n",
    "dataset_nat_Intern = pd.read_csv(\"Natalidad_Internacional.csv\",delimiter=\",\",skiprows=4)\n",
    "\n",
    "dataset_nat_Intern = dataset_nat_Intern [[\"Country Name\", \"2010\", \"2011\", \"2012\", \"2013\", \"2014\",\"2015\",\"2016\",\"2017\"]]\n",
    "dataset_nat_uy = dataset_nat_uy [(dataset_nat_uy [\"Año\"]>=2010) & (dataset_nat_uy [\"Año\"]<=2017)]\n",
    "\n",
    "dataset_nat_Intern = dataset_nat_Intern [(dataset_nat_Intern[\"Country Name\"] == \"Armenia\")]\n",
    "\n",
    "dataset_nat_Intern = dataset_nat_Intern [[\"2010\", \"2011\",\"2012\", \"2013\",\"2014\",\"2015\",\"2016\",\"2017\"]]\n",
    "\n",
    "dataset_nat_Intern = dataset_nat_Intern.T\n",
    "\n",
    "print(dataset_nat_Intern)\n",
    "\n",
    "plt.plot(dataset_nat_uy[\"Año\"], dataset_nat_uy[\"valor\"], label=\"Uruguay\")\n",
    "\n",
    "print(dataset_nat_uy)\n"
   ]
  }
 ],
 "metadata": {
  "kernelspec": {
   "display_name": "Python 3",
   "language": "python",
   "name": "python3"
  },
  "language_info": {
   "codemirror_mode": {
    "name": "ipython",
    "version": 3
   },
   "file_extension": ".py",
   "mimetype": "text/x-python",
   "name": "python",
   "nbconvert_exporter": "python",
   "pygments_lexer": "ipython3",
   "version": "3.11.4"
  }
 },
 "nbformat": 4,
 "nbformat_minor": 1
}
